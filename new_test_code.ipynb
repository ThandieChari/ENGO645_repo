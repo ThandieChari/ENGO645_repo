{
 "cells": [
  {
   "cell_type": "code",
   "execution_count": 1,
   "id": "8496211d-f170-4c56-9ba4-b6c668111139",
   "metadata": {},
   "outputs": [
    {
     "name": "stdout",
     "output_type": "stream",
     "text": [
      "Hello ENGGO 645 Students!\n"
     ]
    }
   ],
   "source": [
    "print (\"Hello ENGGO 645 Students!\")"
   ]
  },
  {
   "cell_type": "code",
   "execution_count": null,
   "id": "bc892766-0005-4c08-a70d-ec3e176d9d36",
   "metadata": {},
   "outputs": [],
   "source": []
  }
 ],
 "metadata": {
  "kernelspec": {
   "display_name": "Python 3 (ipykernel)",
   "language": "python",
   "name": "python3"
  },
  "language_info": {
   "codemirror_mode": {
    "name": "ipython",
    "version": 3
   },
   "file_extension": ".py",
   "mimetype": "text/x-python",
   "name": "python",
   "nbconvert_exporter": "python",
   "pygments_lexer": "ipython3",
   "version": "3.11.5"
  }
 },
 "nbformat": 4,
 "nbformat_minor": 5
}
